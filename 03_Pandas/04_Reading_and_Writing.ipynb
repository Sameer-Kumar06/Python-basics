{
 "cells": [
  {
   "cell_type": "code",
   "execution_count": 1,
   "metadata": {
    "collapsed": true,
    "ExecuteTime": {
     "end_time": "2024-05-25T04:24:47.953805500Z",
     "start_time": "2024-05-25T04:24:47.385283600Z"
    }
   },
   "outputs": [
    {
     "data": {
      "text/plain": "  tickers            eps        revenue          price         people\n0   GOOGL          27.82           87.0          845.0     larry page\n1     WMT           4.61          484.0           65.0  not available\n2    MSFT          -1.00           85.0           64.0     bill gates\n3     RIL  not available           50.0         1023.0  mukesh ambani\n4    TATA           5.60  not available  not available     ratan tata",
      "text/html": "<div>\n<style scoped>\n    .dataframe tbody tr th:only-of-type {\n        vertical-align: middle;\n    }\n\n    .dataframe tbody tr th {\n        vertical-align: top;\n    }\n\n    .dataframe thead th {\n        text-align: right;\n    }\n</style>\n<table border=\"1\" class=\"dataframe\">\n  <thead>\n    <tr style=\"text-align: right;\">\n      <th></th>\n      <th>tickers</th>\n      <th>eps</th>\n      <th>revenue</th>\n      <th>price</th>\n      <th>people</th>\n    </tr>\n  </thead>\n  <tbody>\n    <tr>\n      <th>0</th>\n      <td>GOOGL</td>\n      <td>27.82</td>\n      <td>87.0</td>\n      <td>845.0</td>\n      <td>larry page</td>\n    </tr>\n    <tr>\n      <th>1</th>\n      <td>WMT</td>\n      <td>4.61</td>\n      <td>484.0</td>\n      <td>65.0</td>\n      <td>not available</td>\n    </tr>\n    <tr>\n      <th>2</th>\n      <td>MSFT</td>\n      <td>-1.00</td>\n      <td>85.0</td>\n      <td>64.0</td>\n      <td>bill gates</td>\n    </tr>\n    <tr>\n      <th>3</th>\n      <td>RIL</td>\n      <td>not available</td>\n      <td>50.0</td>\n      <td>1023.0</td>\n      <td>mukesh ambani</td>\n    </tr>\n    <tr>\n      <th>4</th>\n      <td>TATA</td>\n      <td>5.60</td>\n      <td>not available</td>\n      <td>not available</td>\n      <td>ratan tata</td>\n    </tr>\n  </tbody>\n</table>\n</div>"
     },
     "execution_count": 1,
     "metadata": {},
     "output_type": "execute_result"
    }
   ],
   "source": [
    "import pandas as pd\n",
    "\n",
    "df = pd.read_csv(\"stock.csv\")\n",
    "df"
   ]
  },
  {
   "cell_type": "code",
   "execution_count": 8,
   "outputs": [
    {
     "data": {
      "text/plain": "  tickers    eps  revenue          price         people\n0   GOOGL  27.82     87.0          845.0     larry page\n1     WMT   4.61    484.0           65.0            NaN\n2    MSFT  -1.00     85.0           64.0     bill gates\n3     RIL    NaN     50.0         1023.0  mukesh ambani\n4    TATA   5.60      NaN  not available     ratan tata",
      "text/html": "<div>\n<style scoped>\n    .dataframe tbody tr th:only-of-type {\n        vertical-align: middle;\n    }\n\n    .dataframe tbody tr th {\n        vertical-align: top;\n    }\n\n    .dataframe thead th {\n        text-align: right;\n    }\n</style>\n<table border=\"1\" class=\"dataframe\">\n  <thead>\n    <tr style=\"text-align: right;\">\n      <th></th>\n      <th>tickers</th>\n      <th>eps</th>\n      <th>revenue</th>\n      <th>price</th>\n      <th>people</th>\n    </tr>\n  </thead>\n  <tbody>\n    <tr>\n      <th>0</th>\n      <td>GOOGL</td>\n      <td>27.82</td>\n      <td>87.0</td>\n      <td>845.0</td>\n      <td>larry page</td>\n    </tr>\n    <tr>\n      <th>1</th>\n      <td>WMT</td>\n      <td>4.61</td>\n      <td>484.0</td>\n      <td>65.0</td>\n      <td>NaN</td>\n    </tr>\n    <tr>\n      <th>2</th>\n      <td>MSFT</td>\n      <td>-1.00</td>\n      <td>85.0</td>\n      <td>64.0</td>\n      <td>bill gates</td>\n    </tr>\n    <tr>\n      <th>3</th>\n      <td>RIL</td>\n      <td>NaN</td>\n      <td>50.0</td>\n      <td>1023.0</td>\n      <td>mukesh ambani</td>\n    </tr>\n    <tr>\n      <th>4</th>\n      <td>TATA</td>\n      <td>5.60</td>\n      <td>NaN</td>\n      <td>not available</td>\n      <td>ratan tata</td>\n    </tr>\n  </tbody>\n</table>\n</div>"
     },
     "execution_count": 8,
     "metadata": {},
     "output_type": "execute_result"
    }
   ],
   "source": [
    "df_stocks = pd.read_csv(\"stock.csv\", na_values={\n",
    "    'eps': [\"not available\", \"n.a.\"],\n",
    "    'revenue': [\"not available\", \"n.a.\", -1],\n",
    "    'people': [\"not available\", \"n.a.\"]\n",
    "})\n",
    "df_stocks"
   ],
   "metadata": {
    "collapsed": false,
    "ExecuteTime": {
     "end_time": "2024-05-25T04:31:29.575841900Z",
     "start_time": "2024-05-25T04:31:29.525029900Z"
    }
   }
  },
  {
   "cell_type": "code",
   "execution_count": 9,
   "outputs": [],
   "source": [
    "df_stocks.to_csv('test.csv', index=False)"
   ],
   "metadata": {
    "collapsed": false,
    "ExecuteTime": {
     "end_time": "2024-05-25T04:31:35.071995100Z",
     "start_time": "2024-05-25T04:31:35.037301Z"
    }
   }
  },
  {
   "cell_type": "markdown",
   "source": [
    "# Excel file"
   ],
   "metadata": {
    "collapsed": false
   }
  },
  {
   "cell_type": "code",
   "execution_count": 10,
   "outputs": [
    {
     "data": {
      "text/plain": "         day  temperature  windspeed  event\n0 2017-01-01           32          6  Rainy\n1 2017-01-02           35          7  Sunny\n2 2017-01-03           28          2   n.a.\n3 2017-01-04           24          7   snow\n4 2017-01-05           32          4  Rainy\n5 2017-01-06           32          2  Sunny",
      "text/html": "<div>\n<style scoped>\n    .dataframe tbody tr th:only-of-type {\n        vertical-align: middle;\n    }\n\n    .dataframe tbody tr th {\n        vertical-align: top;\n    }\n\n    .dataframe thead th {\n        text-align: right;\n    }\n</style>\n<table border=\"1\" class=\"dataframe\">\n  <thead>\n    <tr style=\"text-align: right;\">\n      <th></th>\n      <th>day</th>\n      <th>temperature</th>\n      <th>windspeed</th>\n      <th>event</th>\n    </tr>\n  </thead>\n  <tbody>\n    <tr>\n      <th>0</th>\n      <td>2017-01-01</td>\n      <td>32</td>\n      <td>6</td>\n      <td>Rainy</td>\n    </tr>\n    <tr>\n      <th>1</th>\n      <td>2017-01-02</td>\n      <td>35</td>\n      <td>7</td>\n      <td>Sunny</td>\n    </tr>\n    <tr>\n      <th>2</th>\n      <td>2017-01-03</td>\n      <td>28</td>\n      <td>2</td>\n      <td>n.a.</td>\n    </tr>\n    <tr>\n      <th>3</th>\n      <td>2017-01-04</td>\n      <td>24</td>\n      <td>7</td>\n      <td>snow</td>\n    </tr>\n    <tr>\n      <th>4</th>\n      <td>2017-01-05</td>\n      <td>32</td>\n      <td>4</td>\n      <td>Rainy</td>\n    </tr>\n    <tr>\n      <th>5</th>\n      <td>2017-01-06</td>\n      <td>32</td>\n      <td>2</td>\n      <td>Sunny</td>\n    </tr>\n  </tbody>\n</table>\n</div>"
     },
     "execution_count": 10,
     "metadata": {},
     "output_type": "execute_result"
    }
   ],
   "source": [
    "df_weather = pd.read_excel(\"weather_data.xlsx\")\n",
    "df_weather"
   ],
   "metadata": {
    "collapsed": false,
    "ExecuteTime": {
     "end_time": "2024-05-25T04:32:04.197126600Z",
     "start_time": "2024-05-25T04:32:04.155156500Z"
    }
   }
  },
  {
   "cell_type": "code",
   "execution_count": 11,
   "outputs": [
    {
     "data": {
      "text/plain": "         day  temperature  windspeed  event\n0 2017-01-01           32          6  Rainy\n1 2017-01-02           35          7  Sunny\n2 2017-01-03           28          2  Rainy\n3 2017-01-04           24          7   snow\n4 2017-01-05           32          4  Rainy\n5 2017-01-06           32          2  Sunny",
      "text/html": "<div>\n<style scoped>\n    .dataframe tbody tr th:only-of-type {\n        vertical-align: middle;\n    }\n\n    .dataframe tbody tr th {\n        vertical-align: top;\n    }\n\n    .dataframe thead th {\n        text-align: right;\n    }\n</style>\n<table border=\"1\" class=\"dataframe\">\n  <thead>\n    <tr style=\"text-align: right;\">\n      <th></th>\n      <th>day</th>\n      <th>temperature</th>\n      <th>windspeed</th>\n      <th>event</th>\n    </tr>\n  </thead>\n  <tbody>\n    <tr>\n      <th>0</th>\n      <td>2017-01-01</td>\n      <td>32</td>\n      <td>6</td>\n      <td>Rainy</td>\n    </tr>\n    <tr>\n      <th>1</th>\n      <td>2017-01-02</td>\n      <td>35</td>\n      <td>7</td>\n      <td>Sunny</td>\n    </tr>\n    <tr>\n      <th>2</th>\n      <td>2017-01-03</td>\n      <td>28</td>\n      <td>2</td>\n      <td>Rainy</td>\n    </tr>\n    <tr>\n      <th>3</th>\n      <td>2017-01-04</td>\n      <td>24</td>\n      <td>7</td>\n      <td>snow</td>\n    </tr>\n    <tr>\n      <th>4</th>\n      <td>2017-01-05</td>\n      <td>32</td>\n      <td>4</td>\n      <td>Rainy</td>\n    </tr>\n    <tr>\n      <th>5</th>\n      <td>2017-01-06</td>\n      <td>32</td>\n      <td>2</td>\n      <td>Sunny</td>\n    </tr>\n  </tbody>\n</table>\n</div>"
     },
     "execution_count": 11,
     "metadata": {},
     "output_type": "execute_result"
    }
   ],
   "source": [
    "def convert_event_cell(cell):\n",
    "    if cell == 'n.a.':\n",
    "        return \"Rainy\"\n",
    "    return cell\n",
    "\n",
    "df_weather = pd.read_excel(\"weather_data.xlsx\", \"weather\", converters={\n",
    "    'event': convert_event_cell\n",
    "})\n",
    "df_weather"
   ],
   "metadata": {
    "collapsed": false,
    "ExecuteTime": {
     "end_time": "2024-05-25T04:32:07.115809200Z",
     "start_time": "2024-05-25T04:32:07.073431500Z"
    }
   }
  },
  {
   "cell_type": "code",
   "execution_count": 12,
   "outputs": [],
   "source": [
    "df_weather.to_excel(\"new.xlsx\", sheet_name='weather')"
   ],
   "metadata": {
    "collapsed": false,
    "ExecuteTime": {
     "end_time": "2024-05-25T04:32:09.626433300Z",
     "start_time": "2024-05-25T04:32:09.581138600Z"
    }
   }
  },
  {
   "cell_type": "code",
   "execution_count": 13,
   "outputs": [],
   "source": [
    "with pd.ExcelWriter('stock-weather.xlsx') as writer:\n",
    "    df_stocks.to_excel(writer, sheet_name='stocks')\n",
    "    df_weather.to_excel(writer, sheet_name='weather')"
   ],
   "metadata": {
    "collapsed": false,
    "ExecuteTime": {
     "end_time": "2024-05-25T04:33:22.683524800Z",
     "start_time": "2024-05-25T04:33:22.642377900Z"
    }
   }
  }
 ],
 "metadata": {
  "kernelspec": {
   "display_name": "Python 3",
   "language": "python",
   "name": "python3"
  },
  "language_info": {
   "codemirror_mode": {
    "name": "ipython",
    "version": 2
   },
   "file_extension": ".py",
   "mimetype": "text/x-python",
   "name": "python",
   "nbconvert_exporter": "python",
   "pygments_lexer": "ipython2",
   "version": "2.7.6"
  }
 },
 "nbformat": 4,
 "nbformat_minor": 0
}
