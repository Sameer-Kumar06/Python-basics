{
 "cells": [
  {
   "cell_type": "code",
   "execution_count": null,
   "outputs": [],
   "source": [
    "import pandas as pd\n",
    "df = pd.read_csv(\"weather.csv\", parse_dates=['day'])\n",
    "df.set_index('day', inplace=True)\n",
    "df"
   ],
   "metadata": {
    "collapsed": false
   }
  },
  {
   "cell_type": "code",
   "execution_count": 21,
   "outputs": [
    {
     "data": {
      "text/plain": "            temperature  windspeed  event\nday                                      \n2017-01-01         32.0        6.0  Rainy\n2017-01-02         35.0        7.0  Sunny\n2017-04-02          0.0        2.0   snow\n2017-01-04         24.0        0.0   snow\n2017-01-05         32.0        4.0  Rainy\n2017-01-06         32.0        2.0      0",
      "text/html": "<div>\n<style scoped>\n    .dataframe tbody tr th:only-of-type {\n        vertical-align: middle;\n    }\n\n    .dataframe tbody tr th {\n        vertical-align: top;\n    }\n\n    .dataframe thead th {\n        text-align: right;\n    }\n</style>\n<table border=\"1\" class=\"dataframe\">\n  <thead>\n    <tr style=\"text-align: right;\">\n      <th></th>\n      <th>temperature</th>\n      <th>windspeed</th>\n      <th>event</th>\n    </tr>\n    <tr>\n      <th>day</th>\n      <th></th>\n      <th></th>\n      <th></th>\n    </tr>\n  </thead>\n  <tbody>\n    <tr>\n      <th>2017-01-01</th>\n      <td>32.0</td>\n      <td>6.0</td>\n      <td>Rainy</td>\n    </tr>\n    <tr>\n      <th>2017-01-02</th>\n      <td>35.0</td>\n      <td>7.0</td>\n      <td>Sunny</td>\n    </tr>\n    <tr>\n      <th>2017-04-02</th>\n      <td>0.0</td>\n      <td>2.0</td>\n      <td>snow</td>\n    </tr>\n    <tr>\n      <th>2017-01-04</th>\n      <td>24.0</td>\n      <td>0.0</td>\n      <td>snow</td>\n    </tr>\n    <tr>\n      <th>2017-01-05</th>\n      <td>32.0</td>\n      <td>4.0</td>\n      <td>Rainy</td>\n    </tr>\n    <tr>\n      <th>2017-01-06</th>\n      <td>32.0</td>\n      <td>2.0</td>\n      <td>0</td>\n    </tr>\n  </tbody>\n</table>\n</div>"
     },
     "execution_count": 21,
     "metadata": {},
     "output_type": "execute_result"
    }
   ],
   "source": [
    "new_df = df.fillna(0)\n",
    "new_df"
   ],
   "metadata": {
    "collapsed": false,
    "ExecuteTime": {
     "end_time": "2024-05-25T05:02:54.826385500Z",
     "start_time": "2024-05-25T05:02:54.812094100Z"
    }
   }
  },
  {
   "cell_type": "code",
   "execution_count": 10,
   "outputs": [
    {
     "data": {
      "text/plain": "            temperature  windspeed     event\nday                                         \n2017-01-01         32.0        6.0     Rainy\n2017-01-02         35.0        7.0     Sunny\n2017-01-03          0.0        2.0      snow\n2017-01-04         24.0        0.0      snow\n2017-01-05         32.0        4.0     Rainy\n2017-01-06         32.0        2.0  no event",
      "text/html": "<div>\n<style scoped>\n    .dataframe tbody tr th:only-of-type {\n        vertical-align: middle;\n    }\n\n    .dataframe tbody tr th {\n        vertical-align: top;\n    }\n\n    .dataframe thead th {\n        text-align: right;\n    }\n</style>\n<table border=\"1\" class=\"dataframe\">\n  <thead>\n    <tr style=\"text-align: right;\">\n      <th></th>\n      <th>temperature</th>\n      <th>windspeed</th>\n      <th>event</th>\n    </tr>\n    <tr>\n      <th>day</th>\n      <th></th>\n      <th></th>\n      <th></th>\n    </tr>\n  </thead>\n  <tbody>\n    <tr>\n      <th>2017-01-01</th>\n      <td>32.0</td>\n      <td>6.0</td>\n      <td>Rainy</td>\n    </tr>\n    <tr>\n      <th>2017-01-02</th>\n      <td>35.0</td>\n      <td>7.0</td>\n      <td>Sunny</td>\n    </tr>\n    <tr>\n      <th>2017-01-03</th>\n      <td>0.0</td>\n      <td>2.0</td>\n      <td>snow</td>\n    </tr>\n    <tr>\n      <th>2017-01-04</th>\n      <td>24.0</td>\n      <td>0.0</td>\n      <td>snow</td>\n    </tr>\n    <tr>\n      <th>2017-01-05</th>\n      <td>32.0</td>\n      <td>4.0</td>\n      <td>Rainy</td>\n    </tr>\n    <tr>\n      <th>2017-01-06</th>\n      <td>32.0</td>\n      <td>2.0</td>\n      <td>no event</td>\n    </tr>\n  </tbody>\n</table>\n</div>"
     },
     "execution_count": 10,
     "metadata": {},
     "output_type": "execute_result"
    }
   ],
   "source": [
    "new_df = df.fillna({\n",
    "    'temperature': 0,\n",
    "    'windspeed': 0,\n",
    "    'event': 'no event'\n",
    "})\n",
    "new_df"
   ],
   "metadata": {
    "collapsed": false,
    "ExecuteTime": {
     "end_time": "2024-05-25T04:43:21.863433100Z",
     "start_time": "2024-05-25T04:43:21.848590700Z"
    }
   }
  },
  {
   "cell_type": "code",
   "execution_count": 15,
   "outputs": [
    {
     "name": "stderr",
     "output_type": "stream",
     "text": [
      "C:\\Users\\samee\\AppData\\Local\\Temp\\ipykernel_24168\\1966330461.py:1: FutureWarning: DataFrame.fillna with 'method' is deprecated and will raise in a future version. Use obj.ffill() or obj.bfill() instead.\n",
      "  new_df = df.fillna(method='ffill')\n"
     ]
    },
    {
     "data": {
      "text/plain": "            temperature  windspeed  event\nday                                      \n2017-01-01         32.0        6.0  Rainy\n2017-01-02         35.0        7.0  Sunny\n2017-01-03         35.0        2.0   snow\n2017-01-04         24.0        2.0   snow\n2017-01-05         32.0        4.0  Rainy\n2017-01-06         32.0        2.0  Rainy",
      "text/html": "<div>\n<style scoped>\n    .dataframe tbody tr th:only-of-type {\n        vertical-align: middle;\n    }\n\n    .dataframe tbody tr th {\n        vertical-align: top;\n    }\n\n    .dataframe thead th {\n        text-align: right;\n    }\n</style>\n<table border=\"1\" class=\"dataframe\">\n  <thead>\n    <tr style=\"text-align: right;\">\n      <th></th>\n      <th>temperature</th>\n      <th>windspeed</th>\n      <th>event</th>\n    </tr>\n    <tr>\n      <th>day</th>\n      <th></th>\n      <th></th>\n      <th></th>\n    </tr>\n  </thead>\n  <tbody>\n    <tr>\n      <th>2017-01-01</th>\n      <td>32.0</td>\n      <td>6.0</td>\n      <td>Rainy</td>\n    </tr>\n    <tr>\n      <th>2017-01-02</th>\n      <td>35.0</td>\n      <td>7.0</td>\n      <td>Sunny</td>\n    </tr>\n    <tr>\n      <th>2017-01-03</th>\n      <td>35.0</td>\n      <td>2.0</td>\n      <td>snow</td>\n    </tr>\n    <tr>\n      <th>2017-01-04</th>\n      <td>24.0</td>\n      <td>2.0</td>\n      <td>snow</td>\n    </tr>\n    <tr>\n      <th>2017-01-05</th>\n      <td>32.0</td>\n      <td>4.0</td>\n      <td>Rainy</td>\n    </tr>\n    <tr>\n      <th>2017-01-06</th>\n      <td>32.0</td>\n      <td>2.0</td>\n      <td>Rainy</td>\n    </tr>\n  </tbody>\n</table>\n</div>"
     },
     "execution_count": 15,
     "metadata": {},
     "output_type": "execute_result"
    }
   ],
   "source": [
    "new_df = df.fillna(method='ffill')\n",
    "new_df\n",
    "\n",
    "# df.fill()\n"
   ],
   "metadata": {
    "collapsed": false,
    "ExecuteTime": {
     "end_time": "2024-05-25T04:45:51.842291700Z",
     "start_time": "2024-05-25T04:45:51.798097300Z"
    }
   }
  },
  {
   "cell_type": "code",
   "execution_count": 16,
   "outputs": [
    {
     "name": "stderr",
     "output_type": "stream",
     "text": [
      "C:\\Users\\samee\\AppData\\Local\\Temp\\ipykernel_24168\\2862997843.py:1: FutureWarning: DataFrame.fillna with 'method' is deprecated and will raise in a future version. Use obj.ffill() or obj.bfill() instead.\n",
      "  new_df = df.fillna(method='bfill')\n"
     ]
    },
    {
     "data": {
      "text/plain": "            temperature  windspeed  event\nday                                      \n2017-01-01         32.0        6.0  Rainy\n2017-01-02         35.0        7.0  Sunny\n2017-01-03         24.0        2.0   snow\n2017-01-04         24.0        4.0   snow\n2017-01-05         32.0        4.0  Rainy\n2017-01-06         32.0        2.0    NaN",
      "text/html": "<div>\n<style scoped>\n    .dataframe tbody tr th:only-of-type {\n        vertical-align: middle;\n    }\n\n    .dataframe tbody tr th {\n        vertical-align: top;\n    }\n\n    .dataframe thead th {\n        text-align: right;\n    }\n</style>\n<table border=\"1\" class=\"dataframe\">\n  <thead>\n    <tr style=\"text-align: right;\">\n      <th></th>\n      <th>temperature</th>\n      <th>windspeed</th>\n      <th>event</th>\n    </tr>\n    <tr>\n      <th>day</th>\n      <th></th>\n      <th></th>\n      <th></th>\n    </tr>\n  </thead>\n  <tbody>\n    <tr>\n      <th>2017-01-01</th>\n      <td>32.0</td>\n      <td>6.0</td>\n      <td>Rainy</td>\n    </tr>\n    <tr>\n      <th>2017-01-02</th>\n      <td>35.0</td>\n      <td>7.0</td>\n      <td>Sunny</td>\n    </tr>\n    <tr>\n      <th>2017-01-03</th>\n      <td>24.0</td>\n      <td>2.0</td>\n      <td>snow</td>\n    </tr>\n    <tr>\n      <th>2017-01-04</th>\n      <td>24.0</td>\n      <td>4.0</td>\n      <td>snow</td>\n    </tr>\n    <tr>\n      <th>2017-01-05</th>\n      <td>32.0</td>\n      <td>4.0</td>\n      <td>Rainy</td>\n    </tr>\n    <tr>\n      <th>2017-01-06</th>\n      <td>32.0</td>\n      <td>2.0</td>\n      <td>NaN</td>\n    </tr>\n  </tbody>\n</table>\n</div>"
     },
     "execution_count": 16,
     "metadata": {},
     "output_type": "execute_result"
    }
   ],
   "source": [
    "new_df = df.fillna(method='bfill')\n",
    "new_df"
   ],
   "metadata": {
    "collapsed": false,
    "ExecuteTime": {
     "end_time": "2024-05-25T04:46:16.194228500Z",
     "start_time": "2024-05-25T04:46:16.144508500Z"
    }
   }
  },
  {
   "cell_type": "markdown",
   "source": [
    "# Interpolation"
   ],
   "metadata": {
    "collapsed": false
   }
  },
  {
   "cell_type": "code",
   "execution_count": 22,
   "outputs": [
    {
     "data": {
      "text/plain": "            temperature  windspeed  event\nday                                      \n2017-01-01         32.0        6.0  Rainy\n2017-01-02         35.0        7.0  Sunny\n2017-04-02          NaN        2.0   snow\n2017-01-04         24.0        NaN   snow\n2017-01-05         32.0        4.0  Rainy\n2017-01-06         32.0        2.0    NaN",
      "text/html": "<div>\n<style scoped>\n    .dataframe tbody tr th:only-of-type {\n        vertical-align: middle;\n    }\n\n    .dataframe tbody tr th {\n        vertical-align: top;\n    }\n\n    .dataframe thead th {\n        text-align: right;\n    }\n</style>\n<table border=\"1\" class=\"dataframe\">\n  <thead>\n    <tr style=\"text-align: right;\">\n      <th></th>\n      <th>temperature</th>\n      <th>windspeed</th>\n      <th>event</th>\n    </tr>\n    <tr>\n      <th>day</th>\n      <th></th>\n      <th></th>\n      <th></th>\n    </tr>\n  </thead>\n  <tbody>\n    <tr>\n      <th>2017-01-01</th>\n      <td>32.0</td>\n      <td>6.0</td>\n      <td>Rainy</td>\n    </tr>\n    <tr>\n      <th>2017-01-02</th>\n      <td>35.0</td>\n      <td>7.0</td>\n      <td>Sunny</td>\n    </tr>\n    <tr>\n      <th>2017-04-02</th>\n      <td>NaN</td>\n      <td>2.0</td>\n      <td>snow</td>\n    </tr>\n    <tr>\n      <th>2017-01-04</th>\n      <td>24.0</td>\n      <td>NaN</td>\n      <td>snow</td>\n    </tr>\n    <tr>\n      <th>2017-01-05</th>\n      <td>32.0</td>\n      <td>4.0</td>\n      <td>Rainy</td>\n    </tr>\n    <tr>\n      <th>2017-01-06</th>\n      <td>32.0</td>\n      <td>2.0</td>\n      <td>NaN</td>\n    </tr>\n  </tbody>\n</table>\n</div>"
     },
     "execution_count": 22,
     "metadata": {},
     "output_type": "execute_result"
    }
   ],
   "source": [
    "df = pd.read_csv(\"weather.csv\", parse_dates=['day'])\n",
    "df.set_index('day', inplace=True)\n",
    "df"
   ],
   "metadata": {
    "collapsed": false,
    "ExecuteTime": {
     "end_time": "2024-05-25T05:03:09.371847Z",
     "start_time": "2024-05-25T05:03:09.351051400Z"
    }
   }
  },
  {
   "cell_type": "code",
   "execution_count": 26,
   "outputs": [
    {
     "name": "stderr",
     "output_type": "stream",
     "text": [
      "C:\\Users\\samee\\AppData\\Local\\Temp\\ipykernel_24168\\3316049018.py:1: FutureWarning: DataFrame.interpolate with object dtype is deprecated and will raise in a future version. Call obj.infer_objects(copy=False) before interpolating instead.\n",
      "  new_df = df.interpolate(method='time')\n"
     ]
    },
    {
     "data": {
      "text/plain": "            temperature  windspeed  event\nday                                      \n2017-01-01         32.0        6.0  Rainy\n2017-01-02         35.0        7.0  Sunny\n2017-04-02         32.0        2.0   snow\n2017-01-04         24.0        5.0   snow\n2017-01-05         32.0        4.0  Rainy\n2017-01-06         32.0        2.0    NaN",
      "text/html": "<div>\n<style scoped>\n    .dataframe tbody tr th:only-of-type {\n        vertical-align: middle;\n    }\n\n    .dataframe tbody tr th {\n        vertical-align: top;\n    }\n\n    .dataframe thead th {\n        text-align: right;\n    }\n</style>\n<table border=\"1\" class=\"dataframe\">\n  <thead>\n    <tr style=\"text-align: right;\">\n      <th></th>\n      <th>temperature</th>\n      <th>windspeed</th>\n      <th>event</th>\n    </tr>\n    <tr>\n      <th>day</th>\n      <th></th>\n      <th></th>\n      <th></th>\n    </tr>\n  </thead>\n  <tbody>\n    <tr>\n      <th>2017-01-01</th>\n      <td>32.0</td>\n      <td>6.0</td>\n      <td>Rainy</td>\n    </tr>\n    <tr>\n      <th>2017-01-02</th>\n      <td>35.0</td>\n      <td>7.0</td>\n      <td>Sunny</td>\n    </tr>\n    <tr>\n      <th>2017-04-02</th>\n      <td>32.0</td>\n      <td>2.0</td>\n      <td>snow</td>\n    </tr>\n    <tr>\n      <th>2017-01-04</th>\n      <td>24.0</td>\n      <td>5.0</td>\n      <td>snow</td>\n    </tr>\n    <tr>\n      <th>2017-01-05</th>\n      <td>32.0</td>\n      <td>4.0</td>\n      <td>Rainy</td>\n    </tr>\n    <tr>\n      <th>2017-01-06</th>\n      <td>32.0</td>\n      <td>2.0</td>\n      <td>NaN</td>\n    </tr>\n  </tbody>\n</table>\n</div>"
     },
     "execution_count": 26,
     "metadata": {},
     "output_type": "execute_result"
    }
   ],
   "source": [
    "new_df = df.interpolate(method='time')\n",
    "new_df"
   ],
   "metadata": {
    "collapsed": false,
    "ExecuteTime": {
     "end_time": "2024-05-25T05:03:56.516885900Z",
     "start_time": "2024-05-25T05:03:56.497752300Z"
    }
   }
  },
  {
   "cell_type": "code",
   "execution_count": 27,
   "outputs": [
    {
     "data": {
      "text/plain": "            temperature  windspeed  event\nday                                      \n2017-01-01         32.0        6.0  Rainy\n2017-01-02         35.0        7.0  Sunny\n2017-04-02          NaN        2.0   snow\n2017-01-04         24.0        NaN   snow\n2017-01-05         32.0        4.0  Rainy\n2017-01-06         32.0        2.0    NaN",
      "text/html": "<div>\n<style scoped>\n    .dataframe tbody tr th:only-of-type {\n        vertical-align: middle;\n    }\n\n    .dataframe tbody tr th {\n        vertical-align: top;\n    }\n\n    .dataframe thead th {\n        text-align: right;\n    }\n</style>\n<table border=\"1\" class=\"dataframe\">\n  <thead>\n    <tr style=\"text-align: right;\">\n      <th></th>\n      <th>temperature</th>\n      <th>windspeed</th>\n      <th>event</th>\n    </tr>\n    <tr>\n      <th>day</th>\n      <th></th>\n      <th></th>\n      <th></th>\n    </tr>\n  </thead>\n  <tbody>\n    <tr>\n      <th>2017-01-01</th>\n      <td>32.0</td>\n      <td>6.0</td>\n      <td>Rainy</td>\n    </tr>\n    <tr>\n      <th>2017-01-02</th>\n      <td>35.0</td>\n      <td>7.0</td>\n      <td>Sunny</td>\n    </tr>\n    <tr>\n      <th>2017-04-02</th>\n      <td>NaN</td>\n      <td>2.0</td>\n      <td>snow</td>\n    </tr>\n    <tr>\n      <th>2017-01-04</th>\n      <td>24.0</td>\n      <td>NaN</td>\n      <td>snow</td>\n    </tr>\n    <tr>\n      <th>2017-01-05</th>\n      <td>32.0</td>\n      <td>4.0</td>\n      <td>Rainy</td>\n    </tr>\n    <tr>\n      <th>2017-01-06</th>\n      <td>32.0</td>\n      <td>2.0</td>\n      <td>NaN</td>\n    </tr>\n  </tbody>\n</table>\n</div>"
     },
     "execution_count": 27,
     "metadata": {},
     "output_type": "execute_result"
    }
   ],
   "source": [
    "df"
   ],
   "metadata": {
    "collapsed": false,
    "ExecuteTime": {
     "end_time": "2024-05-25T05:04:58.975282600Z",
     "start_time": "2024-05-25T05:04:58.942270900Z"
    }
   }
  },
  {
   "cell_type": "code",
   "execution_count": 32,
   "outputs": [
    {
     "data": {
      "text/plain": "            temperature  windspeed  event\nday                                      \n2017-01-01         32.0        6.0  Rainy\n2017-01-02         35.0        7.0  Sunny\n2017-04-02          NaN        2.0   snow\n2017-01-04         24.0        NaN   snow\n2017-01-05         32.0        4.0  Rainy\n2017-01-06         32.0        2.0    NaN",
      "text/html": "<div>\n<style scoped>\n    .dataframe tbody tr th:only-of-type {\n        vertical-align: middle;\n    }\n\n    .dataframe tbody tr th {\n        vertical-align: top;\n    }\n\n    .dataframe thead th {\n        text-align: right;\n    }\n</style>\n<table border=\"1\" class=\"dataframe\">\n  <thead>\n    <tr style=\"text-align: right;\">\n      <th></th>\n      <th>temperature</th>\n      <th>windspeed</th>\n      <th>event</th>\n    </tr>\n    <tr>\n      <th>day</th>\n      <th></th>\n      <th></th>\n      <th></th>\n    </tr>\n  </thead>\n  <tbody>\n    <tr>\n      <th>2017-01-01</th>\n      <td>32.0</td>\n      <td>6.0</td>\n      <td>Rainy</td>\n    </tr>\n    <tr>\n      <th>2017-01-02</th>\n      <td>35.0</td>\n      <td>7.0</td>\n      <td>Sunny</td>\n    </tr>\n    <tr>\n      <th>2017-04-02</th>\n      <td>NaN</td>\n      <td>2.0</td>\n      <td>snow</td>\n    </tr>\n    <tr>\n      <th>2017-01-04</th>\n      <td>24.0</td>\n      <td>NaN</td>\n      <td>snow</td>\n    </tr>\n    <tr>\n      <th>2017-01-05</th>\n      <td>32.0</td>\n      <td>4.0</td>\n      <td>Rainy</td>\n    </tr>\n    <tr>\n      <th>2017-01-06</th>\n      <td>32.0</td>\n      <td>2.0</td>\n      <td>NaN</td>\n    </tr>\n  </tbody>\n</table>\n</div>"
     },
     "execution_count": 32,
     "metadata": {},
     "output_type": "execute_result"
    }
   ],
   "source": [
    "new_df = df.dropna(how='all')\n",
    "new_df"
   ],
   "metadata": {
    "collapsed": false,
    "ExecuteTime": {
     "end_time": "2024-05-25T05:07:09.391935300Z",
     "start_time": "2024-05-25T05:07:09.373759800Z"
    }
   }
  },
  {
   "cell_type": "code",
   "execution_count": 36,
   "outputs": [
    {
     "data": {
      "text/plain": "            temperature  windspeed  event\nday                                      \n2017-01-01         32.0        6.0  Rainy\n2017-01-02         35.0        7.0  Sunny\n2017-04-02          NaN        2.0   snow\n2017-01-04         24.0        NaN   snow\n2017-01-05         32.0        4.0  Rainy\n2017-01-06         32.0        2.0    NaN",
      "text/html": "<div>\n<style scoped>\n    .dataframe tbody tr th:only-of-type {\n        vertical-align: middle;\n    }\n\n    .dataframe tbody tr th {\n        vertical-align: top;\n    }\n\n    .dataframe thead th {\n        text-align: right;\n    }\n</style>\n<table border=\"1\" class=\"dataframe\">\n  <thead>\n    <tr style=\"text-align: right;\">\n      <th></th>\n      <th>temperature</th>\n      <th>windspeed</th>\n      <th>event</th>\n    </tr>\n    <tr>\n      <th>day</th>\n      <th></th>\n      <th></th>\n      <th></th>\n    </tr>\n  </thead>\n  <tbody>\n    <tr>\n      <th>2017-01-01</th>\n      <td>32.0</td>\n      <td>6.0</td>\n      <td>Rainy</td>\n    </tr>\n    <tr>\n      <th>2017-01-02</th>\n      <td>35.0</td>\n      <td>7.0</td>\n      <td>Sunny</td>\n    </tr>\n    <tr>\n      <th>2017-04-02</th>\n      <td>NaN</td>\n      <td>2.0</td>\n      <td>snow</td>\n    </tr>\n    <tr>\n      <th>2017-01-04</th>\n      <td>24.0</td>\n      <td>NaN</td>\n      <td>snow</td>\n    </tr>\n    <tr>\n      <th>2017-01-05</th>\n      <td>32.0</td>\n      <td>4.0</td>\n      <td>Rainy</td>\n    </tr>\n    <tr>\n      <th>2017-01-06</th>\n      <td>32.0</td>\n      <td>2.0</td>\n      <td>NaN</td>\n    </tr>\n  </tbody>\n</table>\n</div>"
     },
     "execution_count": 36,
     "metadata": {},
     "output_type": "execute_result"
    }
   ],
   "source": [
    "new_df = df.dropna(thresh=2)\n",
    "new_df"
   ],
   "metadata": {
    "collapsed": false,
    "ExecuteTime": {
     "end_time": "2024-05-25T05:07:50.025492400Z",
     "start_time": "2024-05-25T05:07:50.004670Z"
    }
   }
  },
  {
   "cell_type": "code",
   "execution_count": null,
   "outputs": [],
   "source": [],
   "metadata": {
    "collapsed": false
   }
  }
 ],
 "metadata": {
  "kernelspec": {
   "display_name": "Python 3",
   "language": "python",
   "name": "python3"
  },
  "language_info": {
   "codemirror_mode": {
    "name": "ipython",
    "version": 2
   },
   "file_extension": ".py",
   "mimetype": "text/x-python",
   "name": "python",
   "nbconvert_exporter": "python",
   "pygments_lexer": "ipython2",
   "version": "2.7.6"
  }
 },
 "nbformat": 4,
 "nbformat_minor": 0
}
