{
 "cells": [
  {
   "cell_type": "markdown",
   "metadata": {
    "collapsed": false,
    "jupyter": {
     "outputs_hidden": false
    }
   },
   "source": [
    "|  Sr. No.  |     Data Types      |                             Description                              |\n",
    "|:---------:|:-------------------:|:--------------------------------------------------------------------:|\n",
    "|     1     |        bool_        |                       Boolean stored as a byte                       |\n",
    "|     2     |        int_         |                    Default integer type (as in C)                    |\n",
    "|     3     |        intc         |                          identical to C int                          |\n",
    "|     4     |        intp         |                      integer used for indexing                       |\n",
    "|     5     |        int8         |                                 Byte                                 |\n",
    "|     6     |        int16        |                      Integer (-32768 to 32767)                       |\n",
    "|     7     |        int32        |                 Integer (-2147483648 to 2147483647)                  |\n",
    "|     8     |        int64        |        Integer (-9223372036854775808 to 9223372036854775807)         |\n",
    "|     9     |        uint8        |                     unsigned integer (0 to 255)                      |\n",
    "|    10     |       uint16        |                    unsigned integer (0 to 65535)                     |\n",
    "|    11     |       uint32        |                  unsigned integer (0 to 4294967295)                  |\n",
    "|    12     |       uint64        |             unsigned integer (0 to 18446744073709551615)             |\n",
    "|    13     |       float_        |                        shorthand for float64                         |\n",
    "|    14     |       float16       |  Half precision float: sign bit, 5 bits exponent, 10 bits mantissa   |\n",
    "|    15     |       float32       | Single precision float: sign bit, 8 bits exponent, 23 bits mantissa  |\n",
    "|    16     |       float64       | Double precision float: sign bit, 11 bits exponent, 52 bits mantissa |\n",
    "|    17     |      complex_       |                       shorthand for complex128                       |\n",
    "|    18     |      complex64      |           complex number represented by two 32 bit floats            |\n",
    "|    19     |      complex_       |            complex number represented y two 64 bit floats            |\n",
    "\n"
   ]
  },
  {
   "cell_type": "code",
   "execution_count": 2,
   "metadata": {
    "collapsed": false,
    "jupyter": {
     "outputs_hidden": false
    },
    "ExecuteTime": {
     "end_time": "2024-05-23T02:51:40.323816200Z",
     "start_time": "2024-05-23T02:51:39.395963600Z"
    }
   },
   "outputs": [
    {
     "name": "stdout",
     "output_type": "stream",
     "text": [
      "Data Type : int32\n"
     ]
    }
   ],
   "source": [
    "import numpy as np\n",
    "\n",
    "var = np.array([1, 2, 3, 4, 5, 6, 10])\n",
    "\n",
    "print(\"Data Type :\", var.dtype)"
   ]
  },
  {
   "cell_type": "code",
   "execution_count": 3,
   "outputs": [
    {
     "name": "stdout",
     "output_type": "stream",
     "text": [
      "Data Type : float64\n"
     ]
    }
   ],
   "source": [
    "var2 = np.array([1.6, 7.5, 6.2])\n",
    "\n",
    "print(\"Data Type :\", var2.dtype)"
   ],
   "metadata": {
    "collapsed": false,
    "ExecuteTime": {
     "end_time": "2024-05-23T02:51:40.426654400Z",
     "start_time": "2024-05-23T02:51:40.323816200Z"
    }
   }
  },
  {
   "cell_type": "code",
   "execution_count": 4,
   "outputs": [
    {
     "name": "stdout",
     "output_type": "stream",
     "text": [
      "Data Type : <U1\n"
     ]
    }
   ],
   "source": [
    "var3 = np.array([\"A\", \"S\", \"K\", \"L\"])\n",
    "\n",
    "print(\"Data Type :\", var3.dtype)"
   ],
   "metadata": {
    "collapsed": false,
    "ExecuteTime": {
     "end_time": "2024-05-23T02:51:40.426654400Z",
     "start_time": "2024-05-23T02:51:40.339115Z"
    }
   }
  },
  {
   "cell_type": "code",
   "execution_count": 5,
   "outputs": [
    {
     "name": "stdout",
     "output_type": "stream",
     "text": [
      "Data Type : <U11\n"
     ]
    }
   ],
   "source": [
    "var4 = np.array([\"A\", \"S\", \"K\", \"L\", 1, 5, 9, 7])\n",
    "\n",
    "print(\"Data Type :\", var4.dtype)"
   ],
   "metadata": {
    "collapsed": false,
    "ExecuteTime": {
     "end_time": "2024-05-23T02:51:40.426654400Z",
     "start_time": "2024-05-23T02:51:40.355212Z"
    }
   }
  },
  {
   "cell_type": "markdown",
   "source": [
    "## Changing Data Types Manually"
   ],
   "metadata": {
    "collapsed": false
   }
  },
  {
   "cell_type": "code",
   "execution_count": 6,
   "outputs": [
    {
     "name": "stdout",
     "output_type": "stream",
     "text": [
      "Data Type : int8\n"
     ]
    }
   ],
   "source": [
    "x = np.array([1,2,3,4,5], dtype=np.int8)\n",
    "\n",
    "print(\"Data Type :\", x.dtype)"
   ],
   "metadata": {
    "collapsed": false,
    "ExecuteTime": {
     "end_time": "2024-05-23T03:08:12.617035900Z",
     "start_time": "2024-05-23T03:08:12.602235900Z"
    }
   }
  },
  {
   "cell_type": "code",
   "execution_count": 8,
   "outputs": [
    {
     "name": "stdout",
     "output_type": "stream",
     "text": [
      "Data Type : float32\n",
      "[1. 2. 3. 4. 5.]\n"
     ]
    }
   ],
   "source": [
    "x1 = np.array([1,2,3,4,5], dtype=\"f\")\n",
    "\n",
    "print(\"Data Type :\", x1.dtype)\n",
    "print(x1)"
   ],
   "metadata": {
    "collapsed": false,
    "ExecuteTime": {
     "end_time": "2024-05-23T03:09:53.134010300Z",
     "start_time": "2024-05-23T03:09:53.125723800Z"
    }
   }
  },
  {
   "cell_type": "code",
   "execution_count": 10,
   "outputs": [
    {
     "name": "stdout",
     "output_type": "stream",
     "text": [
      "x2 =  [1 2 3 4 5]\n",
      "Data Type : int32\n",
      "new =  [1. 2. 3. 4. 5.]\n",
      "Data Type : float32\n",
      "new =  [1 2 3 4 5]\n",
      "Data Type : int32\n"
     ]
    }
   ],
   "source": [
    "x2 = np.array([1,2,3,4,5])\n",
    "\n",
    "new = np.float32(x2)\n",
    "\n",
    "new_one = np.int_(new)\n",
    "\n",
    "print(\"x2 = \", x2)\n",
    "print(\"Data Type :\", x2.dtype)\n",
    "\n",
    "print(\"new = \", new)\n",
    "print(\"Data Type :\", new.dtype)\n",
    "\n",
    "print(\"new_one = \", new_one)\n",
    "print(\"Data Type :\", new_one.dtype)"
   ],
   "metadata": {
    "collapsed": false,
    "ExecuteTime": {
     "end_time": "2024-05-23T03:13:41.030865800Z",
     "start_time": "2024-05-23T03:13:41.006168700Z"
    }
   }
  },
  {
   "cell_type": "code",
   "execution_count": 12,
   "outputs": [
    {
     "name": "stdout",
     "output_type": "stream",
     "text": [
      "[1 2 3 4]\n",
      "[1. 2. 3. 4.]\n"
     ]
    }
   ],
   "source": [
    "x3 = np.array([1,2,3,4])\n",
    "\n",
    "new_1 = x3.astype(float)\n",
    "\n",
    "print(x3)\n",
    "print(new_1)\n"
   ],
   "metadata": {
    "collapsed": false,
    "ExecuteTime": {
     "end_time": "2024-05-23T03:19:11.281216100Z",
     "start_time": "2024-05-23T03:19:11.272691200Z"
    }
   }
  }
 ],
 "metadata": {
  "kernelspec": {
   "display_name": "Python 3 (ipykernel)",
   "language": "python",
   "name": "python3"
  },
  "language_info": {
   "codemirror_mode": {
    "name": "ipython",
    "version": 3
   },
   "file_extension": ".py",
   "mimetype": "text/x-python",
   "name": "python",
   "nbconvert_exporter": "python",
   "pygments_lexer": "ipython3",
   "version": "3.9.0"
  }
 },
 "nbformat": 4,
 "nbformat_minor": 4
}
