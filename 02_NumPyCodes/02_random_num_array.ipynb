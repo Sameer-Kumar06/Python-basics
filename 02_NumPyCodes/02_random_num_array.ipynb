{
 "cells": [
  {
   "cell_type": "markdown",
   "source": [
    "# Random Numbers in Array"
   ],
   "metadata": {
    "collapsed": false
   }
  },
  {
   "cell_type": "markdown",
   "source": [
    "# Rand()"
   ],
   "metadata": {
    "collapsed": false
   }
  },
  {
   "cell_type": "markdown",
   "source": [
    "### This function is used to generate a random value between 0 and 1"
   ],
   "metadata": {
    "collapsed": false
   }
  },
  {
   "cell_type": "code",
   "execution_count": 10,
   "outputs": [
    {
     "name": "stdout",
     "output_type": "stream",
     "text": [
      "[0.9015306  0.94240911 0.91879775 0.0113213  0.43887779]\n"
     ]
    }
   ],
   "source": [
    "import numpy as np\n",
    "\n",
    "var = np.random.rand(5)\n",
    "\n",
    "print(var)"
   ],
   "metadata": {
    "collapsed": false,
    "ExecuteTime": {
     "end_time": "2024-05-22T02:57:10.076282100Z",
     "start_time": "2024-05-22T02:57:10.054651300Z"
    }
   }
  },
  {
   "cell_type": "code",
   "execution_count": 11,
   "outputs": [
    {
     "name": "stdout",
     "output_type": "stream",
     "text": [
      "[[0.57737014 0.45867319 0.65077107 0.01266468 0.51204863]\n",
      " [0.0093536  0.21159908 0.59589252 0.71488    0.91603373]]\n"
     ]
    }
   ],
   "source": [
    "var1 = np.random.rand(2,5)\n",
    "\n",
    "print(var1)"
   ],
   "metadata": {
    "collapsed": false,
    "ExecuteTime": {
     "end_time": "2024-05-22T02:57:54.174461Z",
     "start_time": "2024-05-22T02:57:54.163874400Z"
    }
   }
  },
  {
   "cell_type": "markdown",
   "source": [
    "# Randn()"
   ],
   "metadata": {
    "collapsed": false
   }
  },
  {
   "cell_type": "markdown",
   "source": [
    "### This function is used to generate random value close to zero. This may return positive or negative number as well"
   ],
   "metadata": {
    "collapsed": false
   }
  },
  {
   "cell_type": "code",
   "execution_count": 12,
   "outputs": [
    {
     "name": "stdout",
     "output_type": "stream",
     "text": [
      "[ 0.60068023  0.49577466  0.35022494  0.30161727 -1.67852665]\n"
     ]
    }
   ],
   "source": [
    "var2 = np.random.randn(5)\n",
    "\n",
    "print(var2)"
   ],
   "metadata": {
    "collapsed": false,
    "ExecuteTime": {
     "end_time": "2024-05-22T03:02:17.472273400Z",
     "start_time": "2024-05-22T03:02:17.466606600Z"
    }
   }
  },
  {
   "cell_type": "code",
   "execution_count": 14,
   "outputs": [
    {
     "name": "stdout",
     "output_type": "stream",
     "text": [
      "[[ 0.28990753 -0.70832196  0.3236588   0.59071181 -0.14830892]\n",
      " [ 0.51545983  0.10871375 -0.20414516  0.74411198  1.64661142]\n",
      " [-0.12834476  1.69184544 -0.89812726  0.86881573 -0.21032065]]\n"
     ]
    }
   ],
   "source": [
    "var3 = np.random.randn(3, 5)\n",
    "\n",
    "print(var3)"
   ],
   "metadata": {
    "collapsed": false,
    "ExecuteTime": {
     "end_time": "2024-05-22T03:03:18.354967800Z",
     "start_time": "2024-05-22T03:03:18.336705500Z"
    }
   }
  },
  {
   "cell_type": "markdown",
   "source": [
    "# Ranf()"
   ],
   "metadata": {
    "collapsed": false
   }
  },
  {
   "cell_type": "markdown",
   "source": [
    "### This function is used for random sampling in NumPy. It returns an array of specified shape and fills it with random floats in the half open interval [0.0, 1.0)"
   ],
   "metadata": {
    "collapsed": false
   }
  },
  {
   "cell_type": "code",
   "execution_count": 21,
   "outputs": [
    {
     "name": "stdout",
     "output_type": "stream",
     "text": [
      "[0.88621291 0.69570184 0.8297101  0.47625384]\n"
     ]
    }
   ],
   "source": [
    "var4 = np.random.ranf(4)\n",
    "\n",
    "print(var4)"
   ],
   "metadata": {
    "collapsed": false,
    "ExecuteTime": {
     "end_time": "2024-05-22T03:06:34.074094300Z",
     "start_time": "2024-05-22T03:06:34.067459300Z"
    }
   }
  },
  {
   "cell_type": "markdown",
   "source": [
    "# Randint()"
   ],
   "metadata": {
    "collapsed": false
   }
  },
  {
   "cell_type": "markdown",
   "source": [
    "### The function is used to generate a random number in a given range"
   ],
   "metadata": {
    "collapsed": false
   }
  },
  {
   "cell_type": "code",
   "execution_count": 26,
   "outputs": [
    {
     "name": "stdout",
     "output_type": "stream",
     "text": [
      "[ 6 22  5 10 29 21 16]\n"
     ]
    }
   ],
   "source": [
    "var5 = np.random.randint(5,30,7)\n",
    "\n",
    "# (min, max, totalNumberOfValues)\n",
    "\n",
    "print(var5)"
   ],
   "metadata": {
    "collapsed": false,
    "ExecuteTime": {
     "end_time": "2024-05-22T03:11:38.344555100Z",
     "start_time": "2024-05-22T03:11:38.335357600Z"
    }
   }
  },
  {
   "cell_type": "markdown",
   "source": [],
   "metadata": {
    "collapsed": false
   }
  }
 ],
 "metadata": {
  "kernelspec": {
   "display_name": "Python 3",
   "language": "python",
   "name": "python3"
  },
  "language_info": {
   "codemirror_mode": {
    "name": "ipython",
    "version": 2
   },
   "file_extension": ".py",
   "mimetype": "text/x-python",
   "name": "python",
   "nbconvert_exporter": "python",
   "pygments_lexer": "ipython2",
   "version": "2.7.6"
  }
 },
 "nbformat": 4,
 "nbformat_minor": 0
}
