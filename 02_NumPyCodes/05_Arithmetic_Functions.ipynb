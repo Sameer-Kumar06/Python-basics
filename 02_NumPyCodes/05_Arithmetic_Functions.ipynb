{
 "cells": [
  {
   "cell_type": "markdown",
   "source": [
    "# Arithmetic Functions"
   ],
   "metadata": {
    "collapsed": false
   }
  },
  {
   "cell_type": "code",
   "execution_count": 6,
   "outputs": [
    {
     "name": "stdout",
     "output_type": "stream",
     "text": [
      "Min :  1\n",
      "Min Position:  0\n",
      "Max :  8\n",
      "Max Position:  2\n",
      "\n",
      "Sqrt =  [1.         2.44948974 2.82842712 2.23606798 2.         1.73205081]\n"
     ]
    }
   ],
   "source": [
    "import numpy as np\n",
    "\n",
    "var = np.array([1,6,8,5,4,3])\n",
    "\n",
    "print(\"Min : \", np.min(var))\n",
    "print(\"Min Position: \", np.argmin(var))\n",
    "print(\"Max : \", np.max(var))\n",
    "print(\"Max Position: \", np.argmax(var))\n",
    "print()\n",
    "print(\"Sqrt = \", np.sqrt(var))"
   ],
   "metadata": {
    "collapsed": false,
    "ExecuteTime": {
     "end_time": "2024-05-23T04:49:31.950957900Z",
     "start_time": "2024-05-23T04:49:31.894751500Z"
    }
   }
  },
  {
   "cell_type": "code",
   "execution_count": 5,
   "outputs": [
    {
     "name": "stdout",
     "output_type": "stream",
     "text": [
      "[2 1 3]\n",
      "[1 5]\n"
     ]
    }
   ],
   "source": [
    "var1 = np.array([[2,1,3], [9,6,5]])\n",
    "\n",
    "print(np.min(var1, axis=0))\n",
    "\n",
    "print(np.min(var1, axis=1))"
   ],
   "metadata": {
    "collapsed": false,
    "ExecuteTime": {
     "end_time": "2024-05-23T04:49:02.530466100Z",
     "start_time": "2024-05-23T04:49:02.510899500Z"
    }
   }
  },
  {
   "cell_type": "markdown",
   "source": [
    "## Trigonometric Ratios"
   ],
   "metadata": {
    "collapsed": false
   }
  },
  {
   "cell_type": "code",
   "execution_count": 8,
   "outputs": [
    {
     "name": "stdout",
     "output_type": "stream",
     "text": [
      "Sin =  [ 0.84147098  0.90929743  0.14112001 -0.7568025 ]\n",
      "Cos =  [ 0.54030231 -0.41614684 -0.9899925  -0.65364362]\n"
     ]
    }
   ],
   "source": [
    "var2 = np.array([1,2,3,4])\n",
    "\n",
    "print(\"Sin = \", np.sin(var2))\n",
    "print(\"Cos = \", np.cos(var2))"
   ],
   "metadata": {
    "collapsed": false,
    "ExecuteTime": {
     "end_time": "2024-05-23T04:50:40.281058600Z",
     "start_time": "2024-05-23T04:50:40.267814800Z"
    }
   }
  },
  {
   "cell_type": "markdown",
   "source": [
    "## Cumulative Sum"
   ],
   "metadata": {
    "collapsed": false
   }
  },
  {
   "cell_type": "code",
   "execution_count": 9,
   "outputs": [
    {
     "name": "stdout",
     "output_type": "stream",
     "text": [
      "Cumulative Sum =  [ 1  3  6 10]\n"
     ]
    }
   ],
   "source": [
    "var3 = np.array([1,2,3,4])\n",
    "\n",
    "print(\"Cumulative Sum = \", np.cumsum(var3))"
   ],
   "metadata": {
    "collapsed": false,
    "ExecuteTime": {
     "end_time": "2024-05-23T04:51:40.512870200Z",
     "start_time": "2024-05-23T04:51:40.508877900Z"
    }
   }
  }
 ],
 "metadata": {
  "kernelspec": {
   "display_name": "Python 3",
   "language": "python",
   "name": "python3"
  },
  "language_info": {
   "codemirror_mode": {
    "name": "ipython",
    "version": 2
   },
   "file_extension": ".py",
   "mimetype": "text/x-python",
   "name": "python",
   "nbconvert_exporter": "python",
   "pygments_lexer": "ipython2",
   "version": "2.7.6"
  }
 },
 "nbformat": 4,
 "nbformat_minor": 0
}
