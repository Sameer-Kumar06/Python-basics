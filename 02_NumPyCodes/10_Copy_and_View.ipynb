{
 "cells": [
  {
   "cell_type": "markdown",
   "source": [
    "# copy vs view"
   ],
   "metadata": {
    "collapsed": false
   }
  },
  {
   "cell_type": "markdown",
   "source": [
    "## The copy function does not change the data in the copied variable but the view function changes the data"
   ],
   "metadata": {
    "collapsed": false
   }
  },
  {
   "cell_type": "code",
   "execution_count": 3,
   "outputs": [
    {
     "name": "stdout",
     "output_type": "stream",
     "text": [
      "var =  [  1 100   3   4]\n",
      "copy =  [1 2 3 4]\n"
     ]
    }
   ],
   "source": [
    "import numpy as np\n",
    "\n",
    "var = np.array([1,2,3,4])\n",
    "\n",
    "co = var.copy()\n",
    "\n",
    "var[1] = 100\n",
    "\n",
    "print(\"var = \", var)\n",
    "print(\"copy = \", co)"
   ],
   "metadata": {
    "collapsed": false,
    "ExecuteTime": {
     "end_time": "2024-05-24T04:00:29.608323900Z",
     "start_time": "2024-05-24T04:00:29.592088300Z"
    }
   }
  },
  {
   "cell_type": "code",
   "execution_count": 4,
   "outputs": [
    {
     "name": "stdout",
     "output_type": "stream",
     "text": [
      "x =  [  9 100   7   6   5]\n",
      "vi =  [  9 100   7   6   5]\n"
     ]
    }
   ],
   "source": [
    "x = np.array([9,8,7,6,5])\n",
    "\n",
    "vi = x.view()\n",
    "\n",
    "x[1] = 100\n",
    "\n",
    "print(\"x = \", x)\n",
    "print(\"vi = \", vi)"
   ],
   "metadata": {
    "collapsed": false,
    "ExecuteTime": {
     "end_time": "2024-05-24T04:00:36.847611Z",
     "start_time": "2024-05-24T04:00:36.827175900Z"
    }
   }
  }
 ],
 "metadata": {
  "kernelspec": {
   "display_name": "Python 3",
   "language": "python",
   "name": "python3"
  },
  "language_info": {
   "codemirror_mode": {
    "name": "ipython",
    "version": 2
   },
   "file_extension": ".py",
   "mimetype": "text/x-python",
   "name": "python",
   "nbconvert_exporter": "python",
   "pygments_lexer": "ipython2",
   "version": "2.7.6"
  }
 },
 "nbformat": 4,
 "nbformat_minor": 0
}
