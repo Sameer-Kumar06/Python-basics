{
 "cells": [
  {
   "cell_type": "markdown",
   "source": [
    "# Shape"
   ],
   "metadata": {
    "collapsed": false
   }
  },
  {
   "cell_type": "code",
   "execution_count": 2,
   "outputs": [
    {
     "name": "stdout",
     "output_type": "stream",
     "text": [
      "[[1 2]\n",
      " [1 2]]\n",
      "\n",
      "Shape =  (2, 2)\n"
     ]
    }
   ],
   "source": [
    "import numpy as np\n",
    "\n",
    "arr = np.array([[1,2],[1,2]])\n",
    "\n",
    "print(arr)\n",
    "print()\n",
    "print(\"Shape = \", arr.shape)"
   ],
   "metadata": {
    "collapsed": false,
    "ExecuteTime": {
     "end_time": "2024-05-23T04:56:16.062066600Z",
     "start_time": "2024-05-23T04:56:16.039858600Z"
    }
   }
  },
  {
   "cell_type": "code",
   "execution_count": 4,
   "outputs": [
    {
     "name": "stdout",
     "output_type": "stream",
     "text": [
      "[[[[1 2 3 4]]]]\n",
      "ndim =  4\n",
      "\n",
      "shape =  (1, 1, 1, 4)\n"
     ]
    }
   ],
   "source": [
    "arr1 = np.array([1,2,3,4], ndmin=4)\n",
    "\n",
    "print(arr1)\n",
    "\n",
    "print(\"ndim = \", arr1.ndim)\n",
    "print()\n",
    "print(\"shape = \", arr1.shape)"
   ],
   "metadata": {
    "collapsed": false,
    "ExecuteTime": {
     "end_time": "2024-05-23T04:59:55.436136200Z",
     "start_time": "2024-05-23T04:59:55.421857Z"
    }
   }
  },
  {
   "cell_type": "markdown",
   "source": [
    "# Reshape"
   ],
   "metadata": {
    "collapsed": false
   }
  },
  {
   "cell_type": "code",
   "execution_count": 10,
   "outputs": [
    {
     "name": "stdout",
     "output_type": "stream",
     "text": [
      "[1 2 3 4 5 6 7 8 9]\n",
      "1\n",
      "shape =  (9,)\n",
      "\n",
      "[[1 2 3]\n",
      " [4 5 6]\n",
      " [7 8 9]]\n",
      "2\n",
      "shape =  (3, 3)\n"
     ]
    }
   ],
   "source": [
    "arr2 = np.array([1,2,3,4,5,6,7,8,9])\n",
    "print(arr2)\n",
    "print(arr2.ndim)\n",
    "print(\"shape = \", arr2.shape)\n",
    "\n",
    "print()\n",
    "\n",
    "x = arr2.reshape(3,3)\n",
    "\n",
    "#   reshape( row, column)\n",
    "\n",
    "print(x)\n",
    "print(x.ndim)\n",
    "print(\"shape = \", x.shape)"
   ],
   "metadata": {
    "collapsed": false,
    "ExecuteTime": {
     "end_time": "2024-05-23T05:03:58.099409400Z",
     "start_time": "2024-05-23T05:03:58.084732600Z"
    }
   }
  },
  {
   "cell_type": "code",
   "execution_count": 13,
   "outputs": [
    {
     "name": "stdout",
     "output_type": "stream",
     "text": [
      "[1 2 3 4 5 6 7 8 9 1 2 3]\n",
      "1\n",
      "shape =  (12,)\n",
      "\n",
      "[[[1 2]\n",
      "  [3 4]\n",
      "  [5 6]]\n",
      "\n",
      " [[7 8]\n",
      "  [9 1]\n",
      "  [2 3]]]\n",
      "3\n",
      "shape =  (2, 3, 2)\n",
      "\n",
      "[1 2 3 4 5 6 7 8 9 1 2 3]\n",
      "1\n"
     ]
    }
   ],
   "source": [
    "arr3 = np.array([1,2,3,4,5,6,7,8,9,1,2,3])\n",
    "print(arr3)\n",
    "print(arr3.ndim)\n",
    "print(\"shape = \", arr3.shape)\n",
    "\n",
    "print()\n",
    "\n",
    "x1 = arr3.reshape(2,3,2)\n",
    "\n",
    "#   reshape( row, column)\n",
    "\n",
    "print(x1)\n",
    "print(x1.ndim)\n",
    "print(\"shape = \", x1.shape)\n",
    "\n",
    "print()\n",
    "\n",
    "one = x1.reshape(-1)\n",
    "print(one)\n",
    "print(one.ndim)"
   ],
   "metadata": {
    "collapsed": false,
    "ExecuteTime": {
     "end_time": "2024-05-23T05:10:36.751774700Z",
     "start_time": "2024-05-23T05:10:36.730451600Z"
    }
   }
  }
 ],
 "metadata": {
  "kernelspec": {
   "display_name": "Python 3",
   "language": "python",
   "name": "python3"
  },
  "language_info": {
   "codemirror_mode": {
    "name": "ipython",
    "version": 2
   },
   "file_extension": ".py",
   "mimetype": "text/x-python",
   "name": "python",
   "nbconvert_exporter": "python",
   "pygments_lexer": "ipython2",
   "version": "2.7.6"
  }
 },
 "nbformat": 4,
 "nbformat_minor": 0
}
