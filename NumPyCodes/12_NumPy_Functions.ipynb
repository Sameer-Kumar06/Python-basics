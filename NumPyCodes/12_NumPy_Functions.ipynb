{
 "cells": [
  {
   "cell_type": "markdown",
   "source": [
    "# Search"
   ],
   "metadata": {
    "collapsed": false
   }
  },
  {
   "cell_type": "code",
   "execution_count": 4,
   "outputs": [
    {
     "name": "stdout",
     "output_type": "stream",
     "text": [
      "(array([1, 3, 4, 5, 6, 8, 9], dtype=int64),)\n"
     ]
    }
   ],
   "source": [
    "import numpy as np\n",
    "\n",
    "var = np.array([1,2,3,4,2,4,0,5,6,8,1,3,9])\n",
    "\n",
    "x = np.where((var%2) == 0)\n",
    "\n",
    "print(x)"
   ],
   "metadata": {
    "collapsed": false,
    "ExecuteTime": {
     "end_time": "2024-05-24T05:02:34.269595Z",
     "start_time": "2024-05-24T05:02:34.258262200Z"
    }
   }
  },
  {
   "cell_type": "code",
   "execution_count": 11,
   "outputs": [
    {
     "name": "stdout",
     "output_type": "stream",
     "text": [
      "4\n"
     ]
    }
   ],
   "source": [
    "var1 = np.array([1,2,3,4,5,6,7,8])\n",
    "\n",
    "x1 = np.searchsorted(var1, 5)\n",
    "\n",
    "print(x1)"
   ],
   "metadata": {
    "collapsed": false,
    "ExecuteTime": {
     "end_time": "2024-05-24T05:04:43.319977500Z",
     "start_time": "2024-05-24T05:04:43.311700400Z"
    }
   }
  },
  {
   "cell_type": "markdown",
   "source": [
    "# Sort"
   ],
   "metadata": {
    "collapsed": false
   }
  },
  {
   "cell_type": "code",
   "execution_count": 13,
   "outputs": [
    {
     "name": "stdout",
     "output_type": "stream",
     "text": [
      "[0 1 4 5 6 6 6 6 7 8 8 8 8 8 9]\n"
     ]
    }
   ],
   "source": [
    "ar = np.array([5,6,8,6,8,6,1,9,8,7,8,4,0,6,8])\n",
    "\n",
    "nw = np.sort(ar)\n",
    "\n",
    "print(nw)"
   ],
   "metadata": {
    "collapsed": false,
    "ExecuteTime": {
     "end_time": "2024-05-24T05:08:52.658787200Z",
     "start_time": "2024-05-24T05:08:52.648072200Z"
    }
   }
  },
  {
   "cell_type": "code",
   "execution_count": 14,
   "outputs": [
    {
     "name": "stdout",
     "output_type": "stream",
     "text": [
      "[[1 7 9]\n",
      " [2 6 8]\n",
      " [1 6 8]]\n"
     ]
    }
   ],
   "source": [
    "ar1 = np.array([[7,1,9], [6,2,8], [8,1,6]])\n",
    "\n",
    "nw1 = np.sort(ar1)\n",
    "\n",
    "print(nw1)"
   ],
   "metadata": {
    "collapsed": false,
    "ExecuteTime": {
     "end_time": "2024-05-24T05:10:44.506923400Z",
     "start_time": "2024-05-24T05:10:44.497871800Z"
    }
   }
  },
  {
   "cell_type": "markdown",
   "source": [
    "# Filter"
   ],
   "metadata": {
    "collapsed": false
   }
  },
  {
   "cell_type": "code",
   "execution_count": 15,
   "outputs": [
    {
     "name": "stdout",
     "output_type": "stream",
     "text": [
      "['a' 'f']\n"
     ]
    }
   ],
   "source": [
    "ar2 = np.array([\"a\", \"s\", \"d\", \"f\"])\n",
    "\n",
    "f = [True, False, False, True]\n",
    "\n",
    "new_a = ar2[f]\n",
    "print(new_a)"
   ],
   "metadata": {
    "collapsed": false,
    "ExecuteTime": {
     "end_time": "2024-05-24T05:13:07.189544800Z",
     "start_time": "2024-05-24T05:13:07.180841300Z"
    }
   }
  },
  {
   "cell_type": "markdown",
   "source": [
    "# Shuffle"
   ],
   "metadata": {
    "collapsed": false
   }
  },
  {
   "cell_type": "code",
   "execution_count": 19,
   "outputs": [
    {
     "name": "stdout",
     "output_type": "stream",
     "text": [
      "[3 1 5 2 4]\n"
     ]
    }
   ],
   "source": [
    "arr1 = np.array([1,2,3,4,5])\n",
    "\n",
    "np.random.shuffle(arr1)\n",
    "\n",
    "print(arr1)"
   ],
   "metadata": {
    "collapsed": false,
    "ExecuteTime": {
     "end_time": "2024-05-24T05:17:19.738701200Z",
     "start_time": "2024-05-24T05:17:19.735597Z"
    }
   }
  },
  {
   "cell_type": "markdown",
   "source": [
    "# Unique"
   ],
   "metadata": {
    "collapsed": false
   }
  },
  {
   "cell_type": "code",
   "execution_count": 23,
   "outputs": [
    {
     "name": "stdout",
     "output_type": "stream",
     "text": [
      "(array([ 0,  1,  2,  3,  4,  5,  6,  7,  8, 44]), array([14,  0,  1, 16,  4, 11,  7, 10,  9, 12], dtype=int64), array([2, 2, 3, 1, 3, 1, 2, 1, 1, 1], dtype=int64))\n"
     ]
    }
   ],
   "source": [
    "arr2 = np.array([1,2,2,2,4,4,4,6,6,8,7,5,44,1,0,0, 3])\n",
    "\n",
    "x = np.unique(arr2, return_index=True, return_counts=True)\n",
    "\n",
    "print(x)"
   ],
   "metadata": {
    "collapsed": false,
    "ExecuteTime": {
     "end_time": "2024-05-24T05:21:15.792486300Z",
     "start_time": "2024-05-24T05:21:15.782542200Z"
    }
   }
  },
  {
   "cell_type": "markdown",
   "source": [
    "# Resize"
   ],
   "metadata": {
    "collapsed": false
   }
  },
  {
   "cell_type": "code",
   "execution_count": 25,
   "outputs": [
    {
     "name": "stdout",
     "output_type": "stream",
     "text": [
      "[[1 2]\n",
      " [3 4]\n",
      " [5 6]]\n"
     ]
    }
   ],
   "source": [
    "arr3 = np.array([1,2,3,4,5,6])\n",
    "\n",
    "y = np.resize(arr3, (3,2))\n",
    "\n",
    "print(y)"
   ],
   "metadata": {
    "collapsed": false,
    "ExecuteTime": {
     "end_time": "2024-05-24T05:23:02.804009700Z",
     "start_time": "2024-05-24T05:23:02.801596500Z"
    }
   }
  },
  {
   "cell_type": "markdown",
   "source": [
    "# Flatten and Ravel"
   ],
   "metadata": {
    "collapsed": false
   }
  },
  {
   "cell_type": "code",
   "execution_count": 28,
   "outputs": [
    {
     "name": "stdout",
     "output_type": "stream",
     "text": [
      "[1 3 5 2 4 6]\n",
      "[1 3 5 2 4 6]\n"
     ]
    }
   ],
   "source": [
    "arr4 = np.array([[1,2],[3,4],[5,6]])\n",
    "\n",
    "print(arr4.flatten(order=\"F\"))\n",
    "print(arr4.ravel(order=\"F\"))"
   ],
   "metadata": {
    "collapsed": false,
    "ExecuteTime": {
     "end_time": "2024-05-24T05:27:08.145793600Z",
     "start_time": "2024-05-24T05:27:08.137104400Z"
    }
   }
  }
 ],
 "metadata": {
  "kernelspec": {
   "display_name": "Python 3",
   "language": "python",
   "name": "python3"
  },
  "language_info": {
   "codemirror_mode": {
    "name": "ipython",
    "version": 2
   },
   "file_extension": ".py",
   "mimetype": "text/x-python",
   "name": "python",
   "nbconvert_exporter": "python",
   "pygments_lexer": "ipython2",
   "version": "2.7.6"
  }
 },
 "nbformat": 4,
 "nbformat_minor": 0
}
