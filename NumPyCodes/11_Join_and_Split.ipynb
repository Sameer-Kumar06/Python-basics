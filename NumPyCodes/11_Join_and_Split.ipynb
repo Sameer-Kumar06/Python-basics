{
 "cells": [
  {
   "cell_type": "markdown",
   "source": [
    "# Join Array"
   ],
   "metadata": {
    "collapsed": false
   }
  },
  {
   "cell_type": "code",
   "execution_count": 2,
   "metadata": {
    "collapsed": true,
    "ExecuteTime": {
     "end_time": "2024-05-24T04:05:02.349542800Z",
     "start_time": "2024-05-24T04:05:02.341882600Z"
    }
   },
   "outputs": [
    {
     "name": "stdout",
     "output_type": "stream",
     "text": [
      "[1 2 3 4 5 6 7 8]\n"
     ]
    }
   ],
   "source": [
    "import numpy as np\n",
    "\n",
    "arr = np.array([1,2,3,4])\n",
    "arr1 = np.array([5,6,7,8])\n",
    "\n",
    "ar = np.concatenate((arr, arr1))\n",
    "print(ar)"
   ]
  },
  {
   "cell_type": "code",
   "execution_count": 9,
   "outputs": [
    {
     "name": "stdout",
     "output_type": "stream",
     "text": [
      "[[1 2 5 6]\n",
      " [3 4 7 8]]\n"
     ]
    }
   ],
   "source": [
    "v1 = np.array([[1,2],[3,4]])\n",
    "v2 = np.array([[5,6],[7,8]])\n",
    "\n",
    "ar_new = np.concatenate((v1, v2), axis=1)\n",
    "print(ar_new)"
   ],
   "metadata": {
    "collapsed": false,
    "ExecuteTime": {
     "end_time": "2024-05-24T04:07:51.437313700Z",
     "start_time": "2024-05-24T04:07:51.430420500Z"
    }
   }
  },
  {
   "cell_type": "code",
   "execution_count": 17,
   "outputs": [
    {
     "name": "stdout",
     "output_type": "stream",
     "text": [
      "[[1 9]\n",
      " [2 8]\n",
      " [3 7]\n",
      " [4 6]]\n",
      "\n",
      "[1 2 3 4 9 8 7 6]\n",
      "\n",
      "[[1 2 3 4]\n",
      " [9 8 7 6]]\n",
      "\n",
      "[[[1 9]\n",
      "  [2 8]\n",
      "  [3 7]\n",
      "  [4 6]]]\n"
     ]
    }
   ],
   "source": [
    "var_1 = np.array([1,2,3,4])\n",
    "var_2 = np.array([9,8,7,6])\n",
    "\n",
    "a_new = np.stack((var_1, var_2), axis=1)\n",
    "\n",
    "a_new1 = np.hstack((var_1, var_2))      # row\n",
    "a_new2 = np.vstack((var_1, var_2))      # column\n",
    "a_new3 = np.dstack((var_1, var_2))      # height\n",
    "\n",
    "print(a_new)\n",
    "print()\n",
    "print(a_new1)\n",
    "print()\n",
    "print(a_new2)\n",
    "print()\n",
    "print(a_new3)"
   ],
   "metadata": {
    "collapsed": false,
    "ExecuteTime": {
     "end_time": "2024-05-24T04:12:42.432355800Z",
     "start_time": "2024-05-24T04:12:42.424640800Z"
    }
   }
  },
  {
   "cell_type": "markdown",
   "source": [
    "# Split Array"
   ],
   "metadata": {
    "collapsed": false
   }
  },
  {
   "cell_type": "code",
   "execution_count": 23,
   "outputs": [
    {
     "name": "stdout",
     "output_type": "stream",
     "text": [
      "[1 2 3 4 5 6 7 8 9]\n",
      "\n",
      "[array([1, 2, 3]), array([4, 5, 6]), array([7, 8, 9])]\n",
      "<class 'numpy.ndarray'>\n"
     ]
    }
   ],
   "source": [
    "var3 = np.array([1,2,3,4,5,6,7,8,9])\n",
    "\n",
    "print(var3)\n",
    "print()\n",
    "\n",
    "ar1 = np.array_split(var3, 3)\n",
    "\n",
    "print(ar1)\n",
    "print(type(ar1[0]))"
   ],
   "metadata": {
    "collapsed": false,
    "ExecuteTime": {
     "end_time": "2024-05-24T04:56:43.530717600Z",
     "start_time": "2024-05-24T04:56:43.488650800Z"
    }
   }
  }
 ],
 "metadata": {
  "kernelspec": {
   "display_name": "Python 3",
   "language": "python",
   "name": "python3"
  },
  "language_info": {
   "codemirror_mode": {
    "name": "ipython",
    "version": 2
   },
   "file_extension": ".py",
   "mimetype": "text/x-python",
   "name": "python",
   "nbconvert_exporter": "python",
   "pygments_lexer": "ipython2",
   "version": "2.7.6"
  }
 },
 "nbformat": 4,
 "nbformat_minor": 0
}
