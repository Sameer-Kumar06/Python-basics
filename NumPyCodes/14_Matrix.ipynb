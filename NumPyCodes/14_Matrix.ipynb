{
 "cells": [
  {
   "cell_type": "markdown",
   "source": [
    "# Matrix"
   ],
   "metadata": {
    "collapsed": false
   }
  },
  {
   "cell_type": "code",
   "execution_count": 2,
   "outputs": [
    {
     "name": "stdout",
     "output_type": "stream",
     "text": [
      "[[1 2 3]\n",
      " [4 5 6]]\n",
      "<class 'numpy.matrix'>\n"
     ]
    }
   ],
   "source": [
    "import numpy as np\n",
    "\n",
    "var = np.matrix([[1,2,3],[4,5,6]])\n",
    "\n",
    "print(var)\n",
    "print(type(var))"
   ],
   "metadata": {
    "collapsed": false,
    "ExecuteTime": {
     "end_time": "2024-05-24T05:52:12.504997100Z",
     "start_time": "2024-05-24T05:52:12.495168500Z"
    }
   }
  },
  {
   "cell_type": "code",
   "execution_count": 3,
   "outputs": [
    {
     "name": "stdout",
     "output_type": "stream",
     "text": [
      "[[1 2 3]\n",
      " [4 5 6]]\n",
      "<class 'numpy.ndarray'>\n"
     ]
    }
   ],
   "source": [
    "var1 = np.array([[1,2,3],[4,5,6]])\n",
    "\n",
    "print(var1)\n",
    "print(type(var1))"
   ],
   "metadata": {
    "collapsed": false,
    "ExecuteTime": {
     "end_time": "2024-05-24T05:52:33.447142700Z",
     "start_time": "2024-05-24T05:52:33.436792100Z"
    }
   }
  },
  {
   "cell_type": "markdown",
   "source": [
    "# Arithmetic Operations in Matrix"
   ],
   "metadata": {
    "collapsed": false
   }
  },
  {
   "cell_type": "markdown",
   "source": [
    "## Addition"
   ],
   "metadata": {
    "collapsed": false
   }
  },
  {
   "cell_type": "code",
   "execution_count": 4,
   "outputs": [
    {
     "name": "stdout",
     "output_type": "stream",
     "text": [
      "\n",
      "[[ 2  4  6]\n",
      " [ 8 10 12]]\n"
     ]
    }
   ],
   "source": [
    "var2 = np.matrix([[1,2,3],[4,5,6]])\n",
    "var3 = np.matrix([[1,2,3],[4,5,6]])\n",
    "\n",
    "print()\n",
    "print(var2 + var3)"
   ],
   "metadata": {
    "collapsed": false,
    "ExecuteTime": {
     "end_time": "2024-05-24T05:56:54.523553400Z",
     "start_time": "2024-05-24T05:56:54.514885300Z"
    }
   }
  },
  {
   "cell_type": "markdown",
   "source": [
    "## Subtraction"
   ],
   "metadata": {
    "collapsed": false
   }
  },
  {
   "cell_type": "code",
   "execution_count": 5,
   "outputs": [
    {
     "name": "stdout",
     "output_type": "stream",
     "text": [
      "\n",
      "[[0 0 0]\n",
      " [0 0 0]]\n"
     ]
    }
   ],
   "source": [
    "var2 = np.matrix([[1,2,3],[4,5,6]])\n",
    "var3 = np.matrix([[1,2,3],[4,5,6]])\n",
    "\n",
    "print()\n",
    "print(var2 - var3)"
   ],
   "metadata": {
    "collapsed": false,
    "ExecuteTime": {
     "end_time": "2024-05-24T05:57:25.387657700Z",
     "start_time": "2024-05-24T05:57:25.376477300Z"
    }
   }
  },
  {
   "cell_type": "markdown",
   "source": [
    "# Multiplication"
   ],
   "metadata": {
    "collapsed": false
   }
  },
  {
   "cell_type": "code",
   "execution_count": 8,
   "outputs": [
    {
     "name": "stdout",
     "output_type": "stream",
     "text": [
      "\n",
      "[[ 9 12]\n",
      " [24 33]]\n",
      "\n",
      "[[ 9 12]\n",
      " [24 33]]\n"
     ]
    }
   ],
   "source": [
    "var2 = np.matrix([[1,2],[4,5]])\n",
    "var3 = np.matrix([[1,2],[4,5]])\n",
    "\n",
    "print()\n",
    "print(var2 * var3)\n",
    "print()\n",
    "print(var2.dot(var3))"
   ],
   "metadata": {
    "collapsed": false,
    "ExecuteTime": {
     "end_time": "2024-05-24T05:59:11.988281900Z",
     "start_time": "2024-05-24T05:59:11.977471700Z"
    }
   }
  },
  {
   "cell_type": "markdown",
   "source": [
    "# Matrix Function In NumPy Array"
   ],
   "metadata": {
    "collapsed": false
   }
  },
  {
   "cell_type": "markdown",
   "source": [
    "## Transpose"
   ],
   "metadata": {
    "collapsed": false
   }
  },
  {
   "cell_type": "code",
   "execution_count": 11,
   "outputs": [
    {
     "name": "stdout",
     "output_type": "stream",
     "text": [
      "[[1 2 3]\n",
      " [4 5 6]]\n",
      "\n",
      "[[1 4]\n",
      " [2 5]\n",
      " [3 6]]\n",
      "\n",
      "[[1 4]\n",
      " [2 5]\n",
      " [3 6]]\n"
     ]
    }
   ],
   "source": [
    "var2 = np.matrix([[1,2,3],[4,5,6]])\n",
    "\n",
    "print(var2)\n",
    "\n",
    "print()\n",
    "\n",
    "print(np.transpose(var2))\n",
    "\n",
    "print()\n",
    "\n",
    "print(var.T)"
   ],
   "metadata": {
    "collapsed": false,
    "ExecuteTime": {
     "end_time": "2024-05-24T06:01:59.419912800Z",
     "start_time": "2024-05-24T06:01:59.414416900Z"
    }
   }
  },
  {
   "cell_type": "markdown",
   "source": [
    "## Swapaxes"
   ],
   "metadata": {
    "collapsed": false
   }
  },
  {
   "cell_type": "code",
   "execution_count": 14,
   "outputs": [
    {
     "name": "stdout",
     "output_type": "stream",
     "text": [
      "[[1 2]\n",
      " [4 5]]\n",
      "\n",
      "[[1 4]\n",
      " [2 5]]\n"
     ]
    }
   ],
   "source": [
    "var2 = np.matrix([[1,2],[4,5]])\n",
    "\n",
    "print(var2)\n",
    "\n",
    "print()\n",
    "\n",
    "print(np.swapaxes(var2, 0, 1))"
   ],
   "metadata": {
    "collapsed": false,
    "ExecuteTime": {
     "end_time": "2024-05-24T06:04:33.166604100Z",
     "start_time": "2024-05-24T06:04:33.157999300Z"
    }
   }
  },
  {
   "cell_type": "markdown",
   "source": [
    "## Inverse"
   ],
   "metadata": {
    "collapsed": false
   }
  },
  {
   "cell_type": "code",
   "execution_count": 15,
   "outputs": [
    {
     "name": "stdout",
     "output_type": "stream",
     "text": [
      "[[1 2]\n",
      " [4 5]]\n",
      "\n",
      "[[-1.66666667  0.66666667]\n",
      " [ 1.33333333 -0.33333333]]\n"
     ]
    }
   ],
   "source": [
    "var3 = np.matrix([[1,2],[4,5]])\n",
    "print(var3)\n",
    "print()\n",
    "print(np.linalg.inv(var3))"
   ],
   "metadata": {
    "collapsed": false,
    "ExecuteTime": {
     "end_time": "2024-05-24T06:07:18.525718800Z",
     "start_time": "2024-05-24T06:07:18.477911800Z"
    }
   }
  },
  {
   "cell_type": "markdown",
   "source": [
    "## Power"
   ],
   "metadata": {
    "collapsed": false
   }
  },
  {
   "cell_type": "code",
   "execution_count": 17,
   "outputs": [
    {
     "name": "stdout",
     "output_type": "stream",
     "text": [
      "[[1 2]\n",
      " [3 4]]\n",
      "\n",
      "[[ 37  54]\n",
      " [ 81 118]]\n",
      "\n",
      "[[1 0]\n",
      " [0 1]]\n",
      "\n",
      "[[-14.75    6.75 ]\n",
      " [ 10.125  -4.625]]\n"
     ]
    }
   ],
   "source": [
    "var4 = np.matrix([[1,2],[3,4]])\n",
    "print(var4)\n",
    "print()\n",
    "\n",
    "\n",
    "print(np.linalg.matrix_power(var4, 3))\n",
    "print()\n",
    "print(np.linalg.matrix_power(var4, 0))\n",
    "print()\n",
    "print(np.linalg.matrix_power(var4, -3))"
   ],
   "metadata": {
    "collapsed": false,
    "ExecuteTime": {
     "end_time": "2024-05-24T06:09:17.505026Z",
     "start_time": "2024-05-24T06:09:17.489798400Z"
    }
   }
  },
  {
   "cell_type": "markdown",
   "source": [
    "## Determinant"
   ],
   "metadata": {
    "collapsed": false
   }
  },
  {
   "cell_type": "code",
   "execution_count": 20,
   "outputs": [
    {
     "name": "stdout",
     "output_type": "stream",
     "text": [
      "[[1 2]\n",
      " [3 4]]\n",
      "\n",
      "-7.999999999999998\n"
     ]
    }
   ],
   "source": [
    "var5 = np.matrix([[1,2,3],[3,4,3],[5,6,7]])\n",
    "print(var4)\n",
    "print()\n",
    "\n",
    "print(np.linalg.det(var5))"
   ],
   "metadata": {
    "collapsed": false,
    "ExecuteTime": {
     "end_time": "2024-05-24T06:11:10.805143Z",
     "start_time": "2024-05-24T06:11:10.732010200Z"
    }
   }
  }
 ],
 "metadata": {
  "kernelspec": {
   "display_name": "Python 3",
   "language": "python",
   "name": "python3"
  },
  "language_info": {
   "codemirror_mode": {
    "name": "ipython",
    "version": 2
   },
   "file_extension": ".py",
   "mimetype": "text/x-python",
   "name": "python",
   "nbconvert_exporter": "python",
   "pygments_lexer": "ipython2",
   "version": "2.7.6"
  }
 },
 "nbformat": 4,
 "nbformat_minor": 0
}
